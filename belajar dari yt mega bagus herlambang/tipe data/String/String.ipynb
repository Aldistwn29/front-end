{
 "cells": [
  {
   "cell_type": "markdown",
   "id": "3f033dc0",
   "metadata": {},
   "source": [
    "# STRING \n",
    "- Kumpulan beberapa karakter yg memilihiki urutan (bisa diindeks)\n",
    "- misal \"Belajar phyton\" atau 'Belajar python'\n",
    "- mengurutkan index sebuah string:\n",
    "   - kata: '  A  k  a  y    b  e  l  a  j  a  r'\n",
    "   - (index)\n",
    "   - maju:    0  1  2 3  4 5  6  7  8  9  10  11\n",
    "   - mundur:  0 -11-10-9-8-7 -6  -5 -4 -3 -2  -1"
   ]
  },
  {
   "cell_type": "code",
   "execution_count": null,
   "id": "4deb79f0",
   "metadata": {},
   "outputs": [],
   "source": []
  },
  {
   "cell_type": "code",
   "execution_count": null,
   "id": "688228e9",
   "metadata": {},
   "outputs": [],
   "source": []
  }
 ],
 "metadata": {
  "kernelspec": {
   "display_name": "Python 3 (ipykernel)",
   "language": "python",
   "name": "python3"
  },
  "language_info": {
   "codemirror_mode": {
    "name": "ipython",
    "version": 3
   },
   "file_extension": ".py",
   "mimetype": "text/x-python",
   "name": "python",
   "nbconvert_exporter": "python",
   "pygments_lexer": "ipython3",
   "version": "3.9.13"
  }
 },
 "nbformat": 4,
 "nbformat_minor": 5
}
