{
 "cells": [
  {
   "cell_type": "code",
   "execution_count": 1,
   "id": "78af11fa",
   "metadata": {},
   "outputs": [
    {
     "data": {
      "text/plain": [
       "18"
      ]
     },
     "execution_count": 1,
     "metadata": {},
     "output_type": "execute_result"
    }
   ],
   "source": [
    "# pengaplikasian aritmatika\n",
    "9*2"
   ]
  },
  {
   "cell_type": "code",
   "execution_count": 17,
   "id": "955e6f7f",
   "metadata": {},
   "outputs": [],
   "source": [
    "# assigment\n",
    "variabel_1 = 4"
   ]
  },
  {
   "cell_type": "code",
   "execution_count": 18,
   "id": "7bf0e2c7",
   "metadata": {},
   "outputs": [
    {
     "data": {
      "text/plain": [
       "4"
      ]
     },
     "execution_count": 18,
     "metadata": {},
     "output_type": "execute_result"
    }
   ],
   "source": [
    "# pemanggilan kembli variabel\n",
    "variabel_1"
   ]
  },
  {
   "cell_type": "code",
   "execution_count": 19,
   "id": "430c2bb3",
   "metadata": {},
   "outputs": [
    {
     "data": {
      "text/plain": [
       "int"
      ]
     },
     "execution_count": 19,
     "metadata": {},
     "output_type": "execute_result"
    }
   ],
   "source": [
    "#mengcek type data\n",
    "type(variabel_1)"
   ]
  },
  {
   "cell_type": "code",
   "execution_count": 22,
   "id": "610daccf",
   "metadata": {},
   "outputs": [
    {
     "data": {
      "text/plain": [
       "1.0"
      ]
     },
     "execution_count": 22,
     "metadata": {},
     "output_type": "execute_result"
    }
   ],
   "source": [
    "# arimatika (pembagian)\n",
    "variabel_1/4"
   ]
  },
  {
   "cell_type": "code",
   "execution_count": 23,
   "id": "499a5fc8",
   "metadata": {},
   "outputs": [
    {
     "data": {
      "text/plain": [
       "8"
      ]
     },
     "execution_count": 23,
     "metadata": {},
     "output_type": "execute_result"
    }
   ],
   "source": [
    "# aritmatika (perkalian)\n",
    "variabel_1 * 2"
   ]
  },
  {
   "cell_type": "code",
   "execution_count": 48,
   "id": "0e67b437",
   "metadata": {},
   "outputs": [],
   "source": [
    "# arimatika (penjumlah,pengurangan)\n",
    "Aldi = variabel_1 -2\n",
    "Akay = variabel_1 + 4"
   ]
  },
  {
   "cell_type": "code",
   "execution_count": 49,
   "id": "ad6e761c",
   "metadata": {},
   "outputs": [
    {
     "name": "stdout",
     "output_type": "stream",
     "text": [
      "2\n",
      "8\n"
     ]
    }
   ],
   "source": [
    "print(Aldi)\n",
    "print(Akay)"
   ]
  },
  {
   "cell_type": "code",
   "execution_count": 51,
   "id": "9a867b9d",
   "metadata": {},
   "outputs": [],
   "source": [
    "# contoh 2 assigment \n",
    "bil1= 5.8"
   ]
  },
  {
   "cell_type": "code",
   "execution_count": 52,
   "id": "85e9aa91",
   "metadata": {},
   "outputs": [
    {
     "data": {
      "text/plain": [
       "5.8"
      ]
     },
     "execution_count": 52,
     "metadata": {},
     "output_type": "execute_result"
    }
   ],
   "source": [
    "# pemanggilan kemballi variabel\n",
    "bil1"
   ]
  },
  {
   "cell_type": "code",
   "execution_count": 53,
   "id": "593b2982",
   "metadata": {},
   "outputs": [
    {
     "data": {
      "text/plain": [
       "float"
      ]
     },
     "execution_count": 53,
     "metadata": {},
     "output_type": "execute_result"
    }
   ],
   "source": [
    "# contoh ke-2 cek type\n",
    "type(bil1)"
   ]
  },
  {
   "cell_type": "code",
   "execution_count": 54,
   "id": "4ee10dc3",
   "metadata": {},
   "outputs": [
    {
     "data": {
      "text/plain": [
       "2.9"
      ]
     },
     "execution_count": 54,
     "metadata": {},
     "output_type": "execute_result"
    }
   ],
   "source": [
    "# arimaatika (pemabgian)\n",
    "bil1/2"
   ]
  },
  {
   "cell_type": "code",
   "execution_count": 55,
   "id": "8c6b2c49",
   "metadata": {},
   "outputs": [
    {
     "data": {
      "text/plain": [
       "11.6"
      ]
     },
     "execution_count": 55,
     "metadata": {},
     "output_type": "execute_result"
    }
   ],
   "source": [
    "# arimatika (perkalian)\n",
    "bil1*2"
   ]
  },
  {
   "cell_type": "code",
   "execution_count": 56,
   "id": "b8142b32",
   "metadata": {},
   "outputs": [],
   "source": [
    "# arimatika(penjumlahan dan pengurangan)\n",
    "Akay = bil1 + 2\n",
    "Aldi = bil1 - 4.2"
   ]
  },
  {
   "cell_type": "code",
   "execution_count": 57,
   "id": "37812084",
   "metadata": {},
   "outputs": [
    {
     "name": "stdout",
     "output_type": "stream",
     "text": [
      "7.8\n",
      "1.5999999999999996\n"
     ]
    }
   ],
   "source": [
    "print(Akay)\n",
    "print(Aldi)"
   ]
  },
  {
   "cell_type": "markdown",
   "id": "bc3c3edf",
   "metadata": {},
   "source": [
    "# penggunaan modulus (%) in phyton"
   ]
  },
  {
   "cell_type": "code",
   "execution_count": 85,
   "id": "77de776c",
   "metadata": {},
   "outputs": [
    {
     "data": {
      "text/plain": [
       "16.5"
      ]
     },
     "execution_count": 85,
     "metadata": {},
     "output_type": "execute_result"
    }
   ],
   "source": [
    "33/2"
   ]
  },
  {
   "cell_type": "code",
   "execution_count": 89,
   "id": "09a51c19",
   "metadata": {},
   "outputs": [
    {
     "data": {
      "text/plain": [
       "float"
      ]
     },
     "execution_count": 89,
     "metadata": {},
     "output_type": "execute_result"
    }
   ],
   "source": [
    "type(33/2)"
   ]
  },
  {
   "cell_type": "code",
   "execution_count": 88,
   "id": "1a49652d",
   "metadata": {},
   "outputs": [
    {
     "data": {
      "text/plain": [
       "1"
      ]
     },
     "execution_count": 88,
     "metadata": {},
     "output_type": "execute_result"
    }
   ],
   "source": [
    "33%2"
   ]
  },
  {
   "cell_type": "code",
   "execution_count": 78,
   "id": "a391e79a",
   "metadata": {},
   "outputs": [],
   "source": [
    "akay= 12/5"
   ]
  },
  {
   "cell_type": "code",
   "execution_count": 79,
   "id": "a3145f9d",
   "metadata": {},
   "outputs": [
    {
     "name": "stdout",
     "output_type": "stream",
     "text": [
      "2.4\n"
     ]
    }
   ],
   "source": [
    "print(akay)"
   ]
  },
  {
   "cell_type": "code",
   "execution_count": 82,
   "id": "6cb71d51",
   "metadata": {},
   "outputs": [
    {
     "data": {
      "text/plain": [
       "float"
      ]
     },
     "execution_count": 82,
     "metadata": {},
     "output_type": "execute_result"
    }
   ],
   "source": [
    "type(akay)"
   ]
  },
  {
   "cell_type": "code",
   "execution_count": 83,
   "id": "fab83f9e",
   "metadata": {},
   "outputs": [],
   "source": [
    "akay= 12%5"
   ]
  },
  {
   "cell_type": "code",
   "execution_count": 84,
   "id": "30589df1",
   "metadata": {},
   "outputs": [
    {
     "name": "stdout",
     "output_type": "stream",
     "text": [
      "2\n"
     ]
    }
   ],
   "source": [
    "print(akay)"
   ]
  },
  {
   "cell_type": "markdown",
   "id": "b2d5733f",
   "metadata": {},
   "source": [
    "# penggunaan pangkat(**) in phyton"
   ]
  },
  {
   "cell_type": "code",
   "execution_count": 90,
   "id": "f40188c7",
   "metadata": {},
   "outputs": [
    {
     "data": {
      "text/plain": [
       "16"
      ]
     },
     "execution_count": 90,
     "metadata": {},
     "output_type": "execute_result"
    }
   ],
   "source": [
    "4*4"
   ]
  },
  {
   "cell_type": "code",
   "execution_count": 92,
   "id": "53db6212",
   "metadata": {},
   "outputs": [
    {
     "data": {
      "text/plain": [
       "16"
      ]
     },
     "execution_count": 92,
     "metadata": {},
     "output_type": "execute_result"
    }
   ],
   "source": [
    "4**2"
   ]
  },
  {
   "cell_type": "code",
   "execution_count": 93,
   "id": "ef899f82",
   "metadata": {},
   "outputs": [
    {
     "data": {
      "text/plain": [
       "256"
      ]
     },
     "execution_count": 93,
     "metadata": {},
     "output_type": "execute_result"
    }
   ],
   "source": [
    "2**8"
   ]
  },
  {
   "cell_type": "code",
   "execution_count": 95,
   "id": "cb61ba62",
   "metadata": {},
   "outputs": [
    {
     "data": {
      "text/plain": [
       "256"
      ]
     },
     "execution_count": 95,
     "metadata": {},
     "output_type": "execute_result"
    }
   ],
   "source": [
    "2*2*2*2*2*2*2*2"
   ]
  },
  {
   "cell_type": "code",
   "execution_count": 96,
   "id": "7de9e66e",
   "metadata": {},
   "outputs": [
    {
     "data": {
      "text/plain": [
       "31"
      ]
     },
     "execution_count": 96,
     "metadata": {},
     "output_type": "execute_result"
    }
   ],
   "source": [
    "3 + 5 * 10 - 5 * 5 + 3"
   ]
  },
  {
   "cell_type": "code",
   "execution_count": 97,
   "id": "af0059c9",
   "metadata": {},
   "outputs": [
    {
     "data": {
      "text/plain": [
       "320"
      ]
     },
     "execution_count": 97,
     "metadata": {},
     "output_type": "execute_result"
    }
   ],
   "source": [
    "(3 + 5) * (10 - 5) * (5 + 3)"
   ]
  },
  {
   "cell_type": "markdown",
   "id": "b409ff56",
   "metadata": {},
   "source": [
    "# index dan slicing in python"
   ]
  },
  {
   "cell_type": "code",
   "execution_count": 98,
   "id": "23791520",
   "metadata": {},
   "outputs": [],
   "source": [
    "b = 4"
   ]
  },
  {
   "cell_type": "code",
   "execution_count": 125,
   "id": "d7e1f6cd",
   "metadata": {},
   "outputs": [],
   "source": [
    "# tipe data (list)\n",
    "aldi_setiawan= ['rumah','mis psbn','naga','smrak','unp','hmti']"
   ]
  },
  {
   "cell_type": "code",
   "execution_count": 126,
   "id": "59252198",
   "metadata": {},
   "outputs": [
    {
     "ename": "SyntaxError",
     "evalue": "invalid syntax (249872192.py, line 1)",
     "output_type": "error",
     "traceback": [
      "\u001b[1;36m  File \u001b[1;32m\"C:\\Users\\HP 14\\AppData\\Local\\Temp\\ipykernel_18296\\249872192.py\"\u001b[1;36m, line \u001b[1;32m1\u001b[0m\n\u001b[1;33m    aldi setiawan= ['mis psbn','naga','smrak','unp','hmti']\u001b[0m\n\u001b[1;37m         ^\u001b[0m\n\u001b[1;31mSyntaxError\u001b[0m\u001b[1;31m:\u001b[0m invalid syntax\n"
     ]
    }
   ],
   "source": [
    "aldi setiawan= ['rumah'.'mis psbn','naga','smrak','unp','hmti']"
   ]
  },
  {
   "cell_type": "code",
   "execution_count": 127,
   "id": "87a2f2da",
   "metadata": {},
   "outputs": [
    {
     "data": {
      "text/plain": [
       "['rumah', 'mis psbn', 'naga', 'smrak', 'unp', 'hmti']"
      ]
     },
     "execution_count": 127,
     "metadata": {},
     "output_type": "execute_result"
    }
   ],
   "source": [
    "aldi_setiawan"
   ]
  },
  {
   "cell_type": "code",
   "execution_count": 128,
   "id": "c9b42854",
   "metadata": {},
   "outputs": [
    {
     "data": {
      "text/plain": [
       "list"
      ]
     },
     "execution_count": 128,
     "metadata": {},
     "output_type": "execute_result"
    }
   ],
   "source": [
    "type(aldi_setiawan)"
   ]
  },
  {
   "cell_type": "code",
   "execution_count": 183,
   "id": "d6c266c7",
   "metadata": {},
   "outputs": [
    {
     "data": {
      "text/plain": [
       "'rumah'"
      ]
     },
     "execution_count": 183,
     "metadata": {},
     "output_type": "execute_result"
    }
   ],
   "source": [
    "# index\n",
    "aldi_setiawan[0]"
   ]
  },
  {
   "cell_type": "code",
   "execution_count": 159,
   "id": "47d92483",
   "metadata": {},
   "outputs": [
    {
     "data": {
      "text/plain": [
       "[]"
      ]
     },
     "execution_count": 159,
     "metadata": {},
     "output_type": "execute_result"
    }
   ],
   "source": [
    "aldi_setiawan[0:0]"
   ]
  },
  {
   "cell_type": "code",
   "execution_count": 160,
   "id": "06a168d0",
   "metadata": {},
   "outputs": [
    {
     "data": {
      "text/plain": [
       "['rumah']"
      ]
     },
     "execution_count": 160,
     "metadata": {},
     "output_type": "execute_result"
    }
   ],
   "source": [
    "aldi_setiawan[0:1]"
   ]
  },
  {
   "cell_type": "code",
   "execution_count": 161,
   "id": "7c6f11bc",
   "metadata": {},
   "outputs": [
    {
     "data": {
      "text/plain": [
       "['rumah', 'mis psbn']"
      ]
     },
     "execution_count": 161,
     "metadata": {},
     "output_type": "execute_result"
    }
   ],
   "source": [
    "aldi_setiawan[0:2]"
   ]
  },
  {
   "cell_type": "code",
   "execution_count": 162,
   "id": "c8a3e630",
   "metadata": {},
   "outputs": [
    {
     "data": {
      "text/plain": [
       "['rumah', 'mis psbn', 'naga']"
      ]
     },
     "execution_count": 162,
     "metadata": {},
     "output_type": "execute_result"
    }
   ],
   "source": [
    "aldi_setiawan[0:3]"
   ]
  },
  {
   "cell_type": "code",
   "execution_count": 163,
   "id": "bdae8154",
   "metadata": {},
   "outputs": [
    {
     "data": {
      "text/plain": [
       "['rumah', 'mis psbn', 'naga', 'smrak']"
      ]
     },
     "execution_count": 163,
     "metadata": {},
     "output_type": "execute_result"
    }
   ],
   "source": [
    "aldi_setiawan[0:4]"
   ]
  },
  {
   "cell_type": "code",
   "execution_count": 164,
   "id": "71fc87b5",
   "metadata": {},
   "outputs": [
    {
     "data": {
      "text/plain": [
       "['rumah', 'mis psbn', 'naga', 'smrak', 'unp']"
      ]
     },
     "execution_count": 164,
     "metadata": {},
     "output_type": "execute_result"
    }
   ],
   "source": [
    "aldi_setiawan[0:5]"
   ]
  },
  {
   "cell_type": "code",
   "execution_count": 165,
   "id": "a78ffb1f",
   "metadata": {},
   "outputs": [
    {
     "data": {
      "text/plain": [
       "['rumah', 'mis psbn', 'naga', 'smrak', 'unp', 'hmti']"
      ]
     },
     "execution_count": 165,
     "metadata": {},
     "output_type": "execute_result"
    }
   ],
   "source": [
    "aldi_setiawan[0:6]"
   ]
  },
  {
   "cell_type": "code",
   "execution_count": 184,
   "id": "56c58162",
   "metadata": {},
   "outputs": [
    {
     "data": {
      "text/plain": [
       "'mis psbn'"
      ]
     },
     "execution_count": 184,
     "metadata": {},
     "output_type": "execute_result"
    }
   ],
   "source": [
    "# index list\n",
    "aldi_setiawan[1]"
   ]
  },
  {
   "cell_type": "code",
   "execution_count": 166,
   "id": "1f5ed8bd",
   "metadata": {},
   "outputs": [
    {
     "data": {
      "text/plain": [
       "[]"
      ]
     },
     "execution_count": 166,
     "metadata": {},
     "output_type": "execute_result"
    }
   ],
   "source": [
    "# slicing list\n",
    "aldi_setiawan[1:0]"
   ]
  },
  {
   "cell_type": "code",
   "execution_count": 167,
   "id": "327f51b4",
   "metadata": {},
   "outputs": [
    {
     "data": {
      "text/plain": [
       "['mis psbn']"
      ]
     },
     "execution_count": 167,
     "metadata": {},
     "output_type": "execute_result"
    }
   ],
   "source": [
    "aldi_setiawan[1:2]"
   ]
  },
  {
   "cell_type": "code",
   "execution_count": 168,
   "id": "0e6cbb64",
   "metadata": {},
   "outputs": [
    {
     "data": {
      "text/plain": [
       "['mis psbn', 'naga']"
      ]
     },
     "execution_count": 168,
     "metadata": {},
     "output_type": "execute_result"
    }
   ],
   "source": [
    "aldi_setiawan[1:3]"
   ]
  },
  {
   "cell_type": "code",
   "execution_count": 169,
   "id": "a7ef3552",
   "metadata": {},
   "outputs": [
    {
     "data": {
      "text/plain": [
       "['mis psbn', 'naga', 'smrak']"
      ]
     },
     "execution_count": 169,
     "metadata": {},
     "output_type": "execute_result"
    }
   ],
   "source": [
    "aldi_setiawan[1:4]"
   ]
  },
  {
   "cell_type": "code",
   "execution_count": 170,
   "id": "d871d837",
   "metadata": {},
   "outputs": [
    {
     "data": {
      "text/plain": [
       "['mis psbn', 'naga', 'smrak', 'unp']"
      ]
     },
     "execution_count": 170,
     "metadata": {},
     "output_type": "execute_result"
    }
   ],
   "source": [
    "aldi_setiawan[1:5]"
   ]
  },
  {
   "cell_type": "code",
   "execution_count": 171,
   "id": "16f2cbce",
   "metadata": {},
   "outputs": [
    {
     "data": {
      "text/plain": [
       "['mis psbn', 'naga', 'smrak', 'unp', 'hmti']"
      ]
     },
     "execution_count": 171,
     "metadata": {},
     "output_type": "execute_result"
    }
   ],
   "source": [
    "aldi_setiawan[1:6]"
   ]
  },
  {
   "cell_type": "code",
   "execution_count": 180,
   "id": "b6769488",
   "metadata": {},
   "outputs": [
    {
     "data": {
      "text/plain": [
       "'naga'"
      ]
     },
     "execution_count": 180,
     "metadata": {},
     "output_type": "execute_result"
    }
   ],
   "source": [
    "# index list\n",
    "aldi_setiawan[2]"
   ]
  },
  {
   "cell_type": "code",
   "execution_count": 182,
   "id": "40718de4",
   "metadata": {},
   "outputs": [
    {
     "data": {
      "text/plain": [
       "[]"
      ]
     },
     "execution_count": 182,
     "metadata": {},
     "output_type": "execute_result"
    }
   ],
   "source": [
    "#  slicing list\n",
    "aldi_setiawan[2:0]"
   ]
  },
  {
   "cell_type": "code",
   "execution_count": 173,
   "id": "e601bfe9",
   "metadata": {},
   "outputs": [
    {
     "data": {
      "text/plain": [
       "[]"
      ]
     },
     "execution_count": 173,
     "metadata": {},
     "output_type": "execute_result"
    }
   ],
   "source": [
    "aldi_setiawan[2:1]"
   ]
  },
  {
   "cell_type": "code",
   "execution_count": 174,
   "id": "6c6729b9",
   "metadata": {},
   "outputs": [
    {
     "data": {
      "text/plain": [
       "[]"
      ]
     },
     "execution_count": 174,
     "metadata": {},
     "output_type": "execute_result"
    }
   ],
   "source": [
    "aldi_setiawan[2:2]"
   ]
  },
  {
   "cell_type": "code",
   "execution_count": 175,
   "id": "ddb479b6",
   "metadata": {},
   "outputs": [
    {
     "data": {
      "text/plain": [
       "['naga']"
      ]
     },
     "execution_count": 175,
     "metadata": {},
     "output_type": "execute_result"
    }
   ],
   "source": [
    "aldi_setiawan[2:3]"
   ]
  },
  {
   "cell_type": "code",
   "execution_count": 176,
   "id": "53fa3c81",
   "metadata": {},
   "outputs": [
    {
     "data": {
      "text/plain": [
       "['naga']"
      ]
     },
     "execution_count": 176,
     "metadata": {},
     "output_type": "execute_result"
    }
   ],
   "source": [
    "aldi_setiawan[2:3]"
   ]
  },
  {
   "cell_type": "code",
   "execution_count": 177,
   "id": "9bfcd93e",
   "metadata": {},
   "outputs": [
    {
     "data": {
      "text/plain": [
       "['naga', 'smrak']"
      ]
     },
     "execution_count": 177,
     "metadata": {},
     "output_type": "execute_result"
    }
   ],
   "source": [
    "aldi_setiawan[2:4]"
   ]
  },
  {
   "cell_type": "code",
   "execution_count": 178,
   "id": "79f16b26",
   "metadata": {},
   "outputs": [
    {
     "data": {
      "text/plain": [
       "['naga', 'smrak', 'unp']"
      ]
     },
     "execution_count": 178,
     "metadata": {},
     "output_type": "execute_result"
    }
   ],
   "source": [
    "aldi_setiawan[2:5]"
   ]
  },
  {
   "cell_type": "code",
   "execution_count": 179,
   "id": "599ed380",
   "metadata": {},
   "outputs": [
    {
     "data": {
      "text/plain": [
       "['naga', 'smrak', 'unp', 'hmti']"
      ]
     },
     "execution_count": 179,
     "metadata": {},
     "output_type": "execute_result"
    }
   ],
   "source": [
    "aldi_setiawan[2:6]"
   ]
  },
  {
   "cell_type": "code",
   "execution_count": 246,
   "id": "0d8575c6",
   "metadata": {},
   "outputs": [],
   "source": [
    "# contoh 2 slacing list\n",
    "Angka= [1,3,5,7,9,11,13,15,17,19,21]"
   ]
  },
  {
   "cell_type": "code",
   "execution_count": 247,
   "id": "436981d9",
   "metadata": {},
   "outputs": [
    {
     "data": {
      "text/plain": [
       "[3, 9, 15, 21]"
      ]
     },
     "execution_count": 247,
     "metadata": {},
     "output_type": "execute_result"
    }
   ],
   "source": [
    "Angka[1::3]"
   ]
  },
  {
   "cell_type": "code",
   "execution_count": 248,
   "id": "7aad76a6",
   "metadata": {},
   "outputs": [
    {
     "data": {
      "text/plain": [
       "[1, 3, 5, 7, 9, 11, 13, 15, 17, 19, 21]"
      ]
     },
     "execution_count": 248,
     "metadata": {},
     "output_type": "execute_result"
    }
   ],
   "source": [
    "Angka[0:11]"
   ]
  },
  {
   "cell_type": "code",
   "execution_count": 251,
   "id": "c23cb312",
   "metadata": {},
   "outputs": [
    {
     "data": {
      "text/plain": [
       "[11]"
      ]
     },
     "execution_count": 251,
     "metadata": {},
     "output_type": "execute_result"
    }
   ],
   "source": [
    "Angka[5:-5:1]"
   ]
  },
  {
   "cell_type": "code",
   "execution_count": 252,
   "id": "5dc92f4b",
   "metadata": {},
   "outputs": [
    {
     "data": {
      "text/plain": [
       "[11]"
      ]
     },
     "execution_count": 252,
     "metadata": {},
     "output_type": "execute_result"
    }
   ],
   "source": [
    "Angka[5:-5]"
   ]
  },
  {
   "cell_type": "code",
   "execution_count": 143,
   "id": "677936c9",
   "metadata": {},
   "outputs": [
    {
     "data": {
      "text/plain": [
       "'AkayKaila'"
      ]
     },
     "execution_count": 143,
     "metadata": {},
     "output_type": "execute_result"
    }
   ],
   "source": [
    "# string\n",
    "'AkayKaila'"
   ]
  },
  {
   "cell_type": "code",
   "execution_count": 147,
   "id": "e9d66319",
   "metadata": {},
   "outputs": [
    {
     "data": {
      "text/plain": [
       "'Akaykaila'"
      ]
     },
     "execution_count": 147,
     "metadata": {},
     "output_type": "execute_result"
    }
   ],
   "source": [
    "\"Akaykaila\""
   ]
  },
  {
   "cell_type": "code",
   "execution_count": 148,
   "id": "1e073dff",
   "metadata": {},
   "outputs": [
    {
     "data": {
      "text/plain": [
       "str"
      ]
     },
     "execution_count": 148,
     "metadata": {},
     "output_type": "execute_result"
    }
   ],
   "source": [
    "type(\"AkayKaila\")"
   ]
  },
  {
   "cell_type": "code",
   "execution_count": 185,
   "id": "76eae671",
   "metadata": {},
   "outputs": [],
   "source": [
    "aldi_setiawan= ['rumah',\"mis psbn\",'naga',\"smrak\",'unp',\"hmti\"]"
   ]
  },
  {
   "cell_type": "code",
   "execution_count": 186,
   "id": "dc5e6381",
   "metadata": {},
   "outputs": [
    {
     "data": {
      "text/plain": [
       "['rumah', 'mis psbn', 'naga', 'smrak', 'unp', 'hmti']"
      ]
     },
     "execution_count": 186,
     "metadata": {},
     "output_type": "execute_result"
    }
   ],
   "source": [
    "aldi_setiawan"
   ]
  },
  {
   "cell_type": "code",
   "execution_count": 191,
   "id": "f97c9cc3",
   "metadata": {},
   "outputs": [
    {
     "data": {
      "text/plain": [
       "\"Assalamu'alaikum om swastu atas nama budaya\""
      ]
     },
     "execution_count": 191,
     "metadata": {},
     "output_type": "execute_result"
    }
   ],
   "source": [
    "\"Assalamu'alaikum om swastu atas nama budaya\""
   ]
  },
  {
   "cell_type": "code",
   "execution_count": 188,
   "id": "8995418b",
   "metadata": {},
   "outputs": [
    {
     "ename": "SyntaxError",
     "evalue": "invalid syntax (3209737504.py, line 1)",
     "output_type": "error",
     "traceback": [
      "\u001b[1;36m  File \u001b[1;32m\"C:\\Users\\HP 14\\AppData\\Local\\Temp\\ipykernel_18296\\3209737504.py\"\u001b[1;36m, line \u001b[1;32m1\u001b[0m\n\u001b[1;33m    'Assalamu'alaikum om swastu atas nama budaya'\u001b[0m\n\u001b[1;37m              ^\u001b[0m\n\u001b[1;31mSyntaxError\u001b[0m\u001b[1;31m:\u001b[0m invalid syntax\n"
     ]
    }
   ],
   "source": [
    "'Assalamu'alaikum om swastu atas nama budaya'"
   ]
  },
  {
   "cell_type": "code",
   "execution_count": 189,
   "id": "5d18b084",
   "metadata": {},
   "outputs": [
    {
     "data": {
      "text/plain": [
       "\"let's go\""
      ]
     },
     "execution_count": 189,
     "metadata": {},
     "output_type": "execute_result"
    }
   ],
   "source": [
    "\"let's go\""
   ]
  },
  {
   "cell_type": "code",
   "execution_count": 190,
   "id": "231c6c19",
   "metadata": {},
   "outputs": [
    {
     "ename": "SyntaxError",
     "evalue": "invalid syntax (3718880410.py, line 1)",
     "output_type": "error",
     "traceback": [
      "\u001b[1;36m  File \u001b[1;32m\"C:\\Users\\HP 14\\AppData\\Local\\Temp\\ipykernel_18296\\3718880410.py\"\u001b[1;36m, line \u001b[1;32m1\u001b[0m\n\u001b[1;33m    'let's go\u001b[0m\n\u001b[1;37m         ^\u001b[0m\n\u001b[1;31mSyntaxError\u001b[0m\u001b[1;31m:\u001b[0m invalid syntax\n"
     ]
    }
   ],
   "source": [
    "'let's go"
   ]
  },
  {
   "cell_type": "code",
   "execution_count": 192,
   "id": "45e16f97",
   "metadata": {},
   "outputs": [
    {
     "name": "stdout",
     "output_type": "stream",
     "text": [
      "Assalamu'alaikum\n"
     ]
    }
   ],
   "source": [
    "print(\"Assalamu'alaikum\")"
   ]
  },
  {
   "cell_type": "code",
   "execution_count": 193,
   "id": "d0fc84de",
   "metadata": {},
   "outputs": [
    {
     "ename": "SyntaxError",
     "evalue": "invalid syntax (750390885.py, line 1)",
     "output_type": "error",
     "traceback": [
      "\u001b[1;36m  File \u001b[1;32m\"C:\\Users\\HP 14\\AppData\\Local\\Temp\\ipykernel_18296\\750390885.py\"\u001b[1;36m, line \u001b[1;32m1\u001b[0m\n\u001b[1;33m    print('Assalamu'alaikum')\u001b[0m\n\u001b[1;37m                    ^\u001b[0m\n\u001b[1;31mSyntaxError\u001b[0m\u001b[1;31m:\u001b[0m invalid syntax\n"
     ]
    }
   ],
   "source": [
    "print('Assalamu'alaikum')"
   ]
  },
  {
   "cell_type": "code",
   "execution_count": 194,
   "id": "8bba4226",
   "metadata": {},
   "outputs": [
    {
     "name": "stdout",
     "output_type": "stream",
     "text": [
      "let's go\n"
     ]
    }
   ],
   "source": [
    "print(\"let's go\")"
   ]
  },
  {
   "cell_type": "code",
   "execution_count": 195,
   "id": "e9f52ea0",
   "metadata": {},
   "outputs": [],
   "source": [
    "# index string\n",
    "Kalimat =\"Saya Seorang Mahasiswa Semester Satu Di Universitas Nusa Putra\""
   ]
  },
  {
   "cell_type": "code",
   "execution_count": 197,
   "id": "28342ff6",
   "metadata": {},
   "outputs": [
    {
     "data": {
      "text/plain": [
       "'S'"
      ]
     },
     "execution_count": 197,
     "metadata": {},
     "output_type": "execute_result"
    }
   ],
   "source": [
    "Kalimat[0]"
   ]
  },
  {
   "cell_type": "code",
   "execution_count": 199,
   "id": "ad1dc72b",
   "metadata": {},
   "outputs": [
    {
     "data": {
      "text/plain": [
       "'S'"
      ]
     },
     "execution_count": 199,
     "metadata": {},
     "output_type": "execute_result"
    }
   ],
   "source": [
    "Kalimat[5]"
   ]
  },
  {
   "cell_type": "code",
   "execution_count": 207,
   "id": "b995d573",
   "metadata": {},
   "outputs": [
    {
     "data": {
      "text/plain": [
       "'Saya '"
      ]
     },
     "execution_count": 207,
     "metadata": {},
     "output_type": "execute_result"
    }
   ],
   "source": [
    "# Slicing\n",
    "Kalimat[0:5]"
   ]
  },
  {
   "cell_type": "code",
   "execution_count": 236,
   "id": "6a67a4a5",
   "metadata": {},
   "outputs": [
    {
     "data": {
      "text/plain": [
       "'Seorang Mahasiswa'"
      ]
     },
     "execution_count": 236,
     "metadata": {},
     "output_type": "execute_result"
    }
   ],
   "source": [
    "Kalimat[5:22]"
   ]
  },
  {
   "cell_type": "code",
   "execution_count": 238,
   "id": "047320f8",
   "metadata": {},
   "outputs": [
    {
     "data": {
      "text/plain": [
       "'SaSSnst'"
      ]
     },
     "execution_count": 238,
     "metadata": {},
     "output_type": "execute_result"
    }
   ],
   "source": [
    "Kalimat[5:-2:9]"
   ]
  },
  {
   "cell_type": "code",
   "execution_count": 228,
   "id": "1a9b7f60",
   "metadata": {},
   "outputs": [
    {
     "data": {
      "text/plain": [
       "'aya '"
      ]
     },
     "execution_count": 228,
     "metadata": {},
     "output_type": "execute_result"
    }
   ],
   "source": [
    "Kalimat[1:5]"
   ]
  },
  {
   "cell_type": "code",
   "execution_count": 229,
   "id": "36c89682",
   "metadata": {},
   "outputs": [
    {
     "data": {
      "text/plain": [
       "'Saya Seorang Mahasiswa Semester Satu Di Universitas Nusa Putra'"
      ]
     },
     "execution_count": 229,
     "metadata": {},
     "output_type": "execute_result"
    }
   ],
   "source": [
    "Kalimat[:]"
   ]
  },
  {
   "cell_type": "code",
   "execution_count": 243,
   "id": "80435352",
   "metadata": {},
   "outputs": [
    {
     "data": {
      "text/plain": [
       "'artuP asuN satisrevinU iD utaS retsemeS awsisahaM gnaroeS ayaS'"
      ]
     },
     "execution_count": 243,
     "metadata": {},
     "output_type": "execute_result"
    }
   ],
   "source": [
    "Kalimat[::-1]"
   ]
  },
  {
   "cell_type": "markdown",
   "id": "f1d90dc4",
   "metadata": {},
   "source": [
    "#  step (langkah)\n",
    "[Awal:Akhir:Jarak]"
   ]
  },
  {
   "cell_type": "code",
   "execution_count": 214,
   "id": "e38238b3",
   "metadata": {},
   "outputs": [],
   "source": [
    "Kalimat2=\"Akay Lagi Belajar Phyton\""
   ]
  },
  {
   "cell_type": "code",
   "execution_count": 216,
   "id": "5a4b5631",
   "metadata": {},
   "outputs": [
    {
     "data": {
      "text/plain": [
       "'Lg eaa htn'"
      ]
     },
     "execution_count": 216,
     "metadata": {},
     "output_type": "execute_result"
    }
   ],
   "source": [
    "Kalimat2[5:-1:2]"
   ]
  },
  {
   "cell_type": "code",
   "execution_count": 220,
   "id": "1570ad96",
   "metadata": {},
   "outputs": [
    {
     "data": {
      "text/plain": [
       "'Akay Lagi Belajar phyton'"
      ]
     },
     "execution_count": 220,
     "metadata": {},
     "output_type": "execute_result"
    }
   ],
   "source": [
    "Kalimat2[0:24]"
   ]
  },
  {
   "cell_type": "code",
   "execution_count": 225,
   "id": "a178ee65",
   "metadata": {},
   "outputs": [
    {
     "data": {
      "text/plain": [
       "'aa ht'"
      ]
     },
     "execution_count": 225,
     "metadata": {},
     "output_type": "execute_result"
    }
   ],
   "source": [
    "Kalimat2[13:-2:2]"
   ]
  },
  {
   "cell_type": "code",
   "execution_count": 233,
   "id": "f57c22d6",
   "metadata": {},
   "outputs": [
    {
     "data": {
      "text/plain": [
       "'a la'"
      ]
     },
     "execution_count": 233,
     "metadata": {},
     "output_type": "execute_result"
    }
   ],
   "source": [
    "Kalimat2[6:-7:3]"
   ]
  },
  {
   "cell_type": "code",
   "execution_count": 234,
   "id": "386044db",
   "metadata": {},
   "outputs": [
    {
     "data": {
      "text/plain": [
       "'Belajar phyton'"
      ]
     },
     "execution_count": 234,
     "metadata": {},
     "output_type": "execute_result"
    }
   ],
   "source": [
    "Kalimat2[10:-1]"
   ]
  },
  {
   "cell_type": "code",
   "execution_count": 240,
   "id": "e0a7f078",
   "metadata": {},
   "outputs": [
    {
     "data": {
      "text/plain": [
       "' notyhp rajaleB igaL yakA'"
      ]
     },
     "execution_count": 240,
     "metadata": {},
     "output_type": "execute_result"
    }
   ],
   "source": [
    "Kalimat2[::-1]"
   ]
  },
  {
   "cell_type": "code",
   "execution_count": 241,
   "id": "90023af9",
   "metadata": {},
   "outputs": [
    {
     "data": {
      "text/plain": [
       "' oyprjlBia aA'"
      ]
     },
     "execution_count": 241,
     "metadata": {},
     "output_type": "execute_result"
    }
   ],
   "source": [
    "Kalimat2[::-2]"
   ]
  },
  {
   "cell_type": "code",
   "execution_count": null,
   "id": "d863c575",
   "metadata": {},
   "outputs": [],
   "source": []
  }
 ],
 "metadata": {
  "kernelspec": {
   "display_name": "Python 3 (ipykernel)",
   "language": "python",
   "name": "python3"
  },
  "language_info": {
   "codemirror_mode": {
    "name": "ipython",
    "version": 3
   },
   "file_extension": ".py",
   "mimetype": "text/x-python",
   "name": "python",
   "nbconvert_exporter": "python",
   "pygments_lexer": "ipython3",
   "version": "3.9.13"
  }
 },
 "nbformat": 4,
 "nbformat_minor": 5
}
