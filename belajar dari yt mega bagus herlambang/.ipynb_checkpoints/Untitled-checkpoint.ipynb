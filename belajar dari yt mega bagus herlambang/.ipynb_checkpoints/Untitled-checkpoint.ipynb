{
 "cells": [
  {
   "cell_type": "markdown",
   "id": "668ccfc5",
   "metadata": {},
   "source": [
    "# Belajar menggunakan python"
   ]
  },
  {
   "cell_type": "markdown",
   "id": "48467248",
   "metadata": {},
   "source": [
    "python adalah bahasa pemerograman yg paling poppuler saat ini"
   ]
  },
  {
   "cell_type": "markdown",
   "id": "24fb18f2",
   "metadata": {},
   "source": [
    "# Heading 1\n",
    "## Heading 2\n",
    "### Heading 3\n",
    "#### Heading 4\n",
    "##### Heading 5\n",
    "###### Hading 6\n",
    "####### Heading 7"
   ]
  },
  {
   "cell_type": "markdown",
   "id": "fb25e1b6",
   "metadata": {},
   "source": [
    "Belajar menggunakan italic *seperti ini*"
   ]
  },
  {
   "cell_type": "markdown",
   "id": "2b881e14",
   "metadata": {},
   "source": [
    "Belajar *menggunakan* *italic* part 2"
   ]
  },
  {
   "cell_type": "markdown",
   "id": "506ea586",
   "metadata": {},
   "source": [
    "Belajar *Menggunakan italic(cetak miring) part 3*"
   ]
  },
  {
   "cell_type": "markdown",
   "id": "24dc1905",
   "metadata": {},
   "source": [
    "cara menggunaka huruf **TEBAL**"
   ]
  },
  {
   "cell_type": "markdown",
   "id": "800cd3e7",
   "metadata": {},
   "source": [
    "tandai jawaban di bawah ini dengan **s** jika salah dan **b**"
   ]
  },
  {
   "cell_type": "markdown",
   "id": "56861954",
   "metadata": {},
   "source": [
    "combinasi antara *italic(cetak mirin)* dan **tebal**"
   ]
  },
  {
   "cell_type": "markdown",
   "id": "56f3742c",
   "metadata": {},
   "source": [
    "> 'Ayam adalah hewan beraki 2'"
   ]
  },
  {
   "cell_type": "markdown",
   "id": "5c66599b",
   "metadata": {},
   "source": [
    "jenis makanan yg mengandung karbohidrat :\n",
    "* Nasi\n",
    "* Gandum\n",
    "* Tepung\n",
    "    * Tepung roti\n",
    "    * Tepung beras\n",
    "    "
   ]
  },
  {
   "cell_type": "markdown",
   "id": "2a3fd4ee",
   "metadata": {},
   "source": [
    "juara lomba makan kerupuk adalah:\n",
    "1. anwar \n",
    "2. badru\n",
    "3. siti "
   ]
  },
  {
   "cell_type": "markdown",
   "id": "97737382",
   "metadata": {},
   "source": [
    "\\*tanda ini berhasil membuat kalimatnya tidak miring*"
   ]
  },
  {
   "cell_type": "markdown",
   "id": "f39d905b",
   "metadata": {},
   "source": [
    "*tapi jika tanda \\ ini di hilangkan maka akan berubah jadi miring*"
   ]
  },
  {
   "cell_type": "markdown",
   "id": "653be34c",
   "metadata": {},
   "source": [
    "![itachi](Ml.jpeg)"
   ]
  },
  {
   "cell_type": "code",
   "execution_count": null,
   "id": "c51eec6b",
   "metadata": {},
   "outputs": [],
   "source": []
  }
 ],
 "metadata": {
  "kernelspec": {
   "display_name": "Python 3 (ipykernel)",
   "language": "python",
   "name": "python3"
  },
  "language_info": {
   "codemirror_mode": {
    "name": "ipython",
    "version": 3
   },
   "file_extension": ".py",
   "mimetype": "text/x-python",
   "name": "python",
   "nbconvert_exporter": "python",
   "pygments_lexer": "ipython3",
   "version": "3.9.12"
  }
 },
 "nbformat": 4,
 "nbformat_minor": 5
}
