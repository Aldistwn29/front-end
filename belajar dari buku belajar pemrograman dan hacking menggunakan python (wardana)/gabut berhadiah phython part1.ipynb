{
 "cells": [
  {
   "cell_type": "code",
   "execution_count": 12,
   "id": "bbaff6d7",
   "metadata": {},
   "outputs": [
    {
     "name": "stdout",
     "output_type": "stream",
     "text": [
      "hello \n",
      "selamat rungkad\n"
     ]
    }
   ],
   "source": [
    "print(\"hello \\nselamat rungkad\")\n"
   ]
  },
  {
   "cell_type": "code",
   "execution_count": 19,
   "id": "e2fcbd58",
   "metadata": {},
   "outputs": [
    {
     "name": "stdout",
     "output_type": "stream",
     "text": [
      "Aldi setiawan\n",
      "aldi setiawan\n",
      "ALDI SETIAWAN\n",
      "Aldi Setiawan\n"
     ]
    }
   ],
   "source": [
    "nama = \"Aldi setiawan\"\n",
    "print(nama)\n",
    "print(nama.lower())\n",
    "print(nama.upper())\n",
    "print(nama.title())"
   ]
  },
  {
   "cell_type": "code",
   "execution_count": 31,
   "id": "9b92bd58",
   "metadata": {},
   "outputs": [
    {
     "name": "stdout",
     "output_type": "stream",
     "text": [
      "abc\n",
      "ABC\n"
     ]
    }
   ],
   "source": [
    "_1 = 'abc'\n",
    "print(_1)\n",
    "print(_1.upper())"
   ]
  },
  {
   "cell_type": "markdown",
   "id": "285ee750",
   "metadata": {},
   "source": [
    "# OPERATOR ARITMATIKAN:\n",
    "  **Dibawah ini adalah contoh pengaplikasian aritmatika ke dlm python, yg terdiri dari oprasi**:\n",
    "* penjumlahan\n",
    "* pengurangan\n",
    "* perkalian\n",
    "* pemabagian\n",
    "* pemabagian hasilnya bulat\n",
    "* modulus\n",
    "* perpangkatan"
   ]
  },
  {
   "cell_type": "markdown",
   "id": "a7b4808d",
   "metadata": {},
   "source": [
    "![aristoteles](aristoteles.jpg)"
   ]
  },
  {
   "cell_type": "code",
   "execution_count": 7,
   "id": "c60bc7cf",
   "metadata": {},
   "outputs": [
    {
     "name": "stdout",
     "output_type": "stream",
     "text": [
      "masukanan nilai a = 2\n",
      "masukan nilai b = 4\n",
      "a + b = 6\n",
      "a - b = -2\n",
      "a * b = 8\n",
      "a / b = 0.5\n",
      "a // b = 0\n",
      "a % b = 2\n",
      "a ** b = 16\n"
     ]
    }
   ],
   "source": [
    "#masukan nilai inputan dari a dan b\n",
    "c = 0\n",
    "a = int(input('masukanan nilai a = '))\n",
    "b = int(input('masukan nilai b = '))\n",
    "#menggunakan operator penjumlahan\n",
    "c= a + b\n",
    "print('a + b = '+ str (c))\n",
    "#menggunakan operator pengurangan\n",
    "c = a - b\n",
    "print('a - b = '+ str (c))\n",
    "\"\"\"menggunakan operator perkalian\"\"\"\n",
    "c = a * b\n",
    "print('a * b = '+ str(c))\n",
    "\"\"\"menggunakan operator pembagian\"\"\"\n",
    "c = a / b\n",
    "print('a / b = '+ str(c))\n",
    "#menggunakan operator pembagian bulat\n",
    "c = a // b\n",
    "print('a // b = '+str(c))\n",
    "#menggunakan sisa bagi (modulus)\n",
    "c = a % b\n",
    "print('a % b = '+str(c))\n",
    "#operator pangkat \n",
    "c = a ** b\n",
    "print('a ** b = '+str(c))\n"
   ]
  },
  {
   "cell_type": "markdown",
   "id": "5913e113",
   "metadata": {},
   "source": [
    "# OPERATOR PERBANDINGAN"
   ]
  },
  {
   "cell_type": "code",
   "execution_count": 6,
   "id": "0c7adc43",
   "metadata": {},
   "outputs": [
    {
     "name": "stdout",
     "output_type": "stream",
     "text": [
      "masukan nilai a = 2\n",
      "masukan nilai b = 3\n",
      "cek kesamaan\n",
      "2. Nilai a tidak sama dengan b\n",
      "cek pertidasamaan\n",
      "1. Nilai a tidak sama dengan b\n",
      "cek kurang dari\n",
      "1. Nilai a kurang dari b\n",
      "cek lebih dari sama dengan\n",
      "3. Nilai a kurang dari b\n"
     ]
    }
   ],
   "source": [
    "a = int(input(\"masukan nilai a = \"))\n",
    "b = int(input(\"masukan nilai b = \"))\n",
    "\n",
    "print(\"cek kesamaan\")\n",
    "if(a==b) :\n",
    "    print(\"1. Nilai a sama dengan nilai b\")\n",
    "else :\n",
    "    print(\"2. Nilai a tidak sama dengan b\")\n",
    "print(\"cek pertidasamaan\") \n",
    "if(a!=b) :\n",
    "    print(\"1. Nilai a tidak sama dengan b\")\n",
    "else :\n",
    "    print(\"2. Nilai a sama dengan nilai b\")\n",
    "print(\"cek kurang dari\")\n",
    "if(a<b):\n",
    "    print(\"1. Nilai a kurang dari b\")\n",
    "else :\n",
    "    print(\"2. Nilai a tidak kurang dari b\")\n",
    "print(\"cek lebih dari sama dengan\")\n",
    "if(a>=b):\n",
    "    print(\"1. Nilai a lebih dari sama dengan b\")\n",
    "else :\n",
    "    print(\"3. Nilai a kurang dari b\")"
   ]
  },
  {
   "cell_type": "code",
   "execution_count": null,
   "id": "a2360d0e",
   "metadata": {},
   "outputs": [],
   "source": [
    "i , n, faktorial = 0 , 0 , 1\n",
    "n = int(input(\"Masukan Nilai: \"))\n",
    "\n",
    "for i in range(1 , n+1):\n",
    "    faktorial *= i\n",
    "    \n",
    "print(\"faktorial:\", faktorial)"
   ]
  },
  {
   "cell_type": "code",
   "execution_count": null,
   "id": "b0529953",
   "metadata": {},
   "outputs": [],
   "source": []
  },
  {
   "cell_type": "code",
   "execution_count": null,
   "id": "0950037f",
   "metadata": {},
   "outputs": [],
   "source": []
  }
 ],
 "metadata": {
  "kernelspec": {
   "display_name": "Python 3 (ipykernel)",
   "language": "python",
   "name": "python3"
  },
  "language_info": {
   "codemirror_mode": {
    "name": "ipython",
    "version": 3
   },
   "file_extension": ".py",
   "mimetype": "text/x-python",
   "name": "python",
   "nbconvert_exporter": "python",
   "pygments_lexer": "ipython3",
   "version": "3.9.13"
  }
 },
 "nbformat": 4,
 "nbformat_minor": 5
}
