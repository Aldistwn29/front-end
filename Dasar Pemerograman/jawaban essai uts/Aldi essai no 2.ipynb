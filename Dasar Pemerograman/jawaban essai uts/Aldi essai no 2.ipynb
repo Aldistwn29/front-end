{
 "cells": [
  {
   "cell_type": "code",
   "execution_count": 1,
   "id": "90705504",
   "metadata": {},
   "outputs": [
    {
     "name": "stdout",
     "output_type": "stream",
     "text": [
      "kalimat: aldi setiawan\n",
      "input:aldi setiawan\n",
      "output47di 53ti4w4n\n"
     ]
    }
   ],
   "source": [
    "kalimat = input(\"kalimat: \")\n",
    "kalimat_baru =\"\"\n",
    "for huruf in kalimat:\n",
    "    if huruf.lower() == \"a\":\n",
    "        kalimat_baru += \"4\"\n",
    "    elif huruf.lower() == \"e\":\n",
    "        kalimat_baru += \"3\"\n",
    "    elif huruf == \"l\":\n",
    "        kalimat_baru += \"7\"\n",
    "    elif huruf == \"s\":\n",
    "        kalimat_baru += \"5\"\n",
    "    else:\n",
    "        kalimat_baru += huruf\n",
    "\n",
    "print(f\"input:{kalimat}\")\n",
    "print(f\"output{kalimat_baru}\")"
   ]
  },
  {
   "cell_type": "code",
   "execution_count": null,
   "id": "926a3779",
   "metadata": {},
   "outputs": [],
   "source": []
  }
 ],
 "metadata": {
  "kernelspec": {
   "display_name": "Python 3 (ipykernel)",
   "language": "python",
   "name": "python3"
  },
  "language_info": {
   "codemirror_mode": {
    "name": "ipython",
    "version": 3
   },
   "file_extension": ".py",
   "mimetype": "text/x-python",
   "name": "python",
   "nbconvert_exporter": "python",
   "pygments_lexer": "ipython3",
   "version": "3.9.13"
  }
 },
 "nbformat": 4,
 "nbformat_minor": 5
}
