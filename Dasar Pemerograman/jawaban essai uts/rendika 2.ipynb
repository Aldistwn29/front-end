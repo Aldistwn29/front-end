{
 "cells": [
  {
   "cell_type": "code",
   "execution_count": 2,
   "id": "0c0327e1",
   "metadata": {},
   "outputs": [
    {
     "name": "stdout",
     "output_type": "stream",
     "text": [
      "kalimat: rendika febrian\n",
      "input:rendika febrian\n",
      "outputr3ndik4 f3bri4n\n"
     ]
    }
   ],
   "source": [
    "kalimat = input(\"kalimat: \")\n",
    "kalimat_baru =\"\"\n",
    "for huruf in kalimat:\n",
    "    if huruf.lower() == \"a\":\n",
    "        kalimat_baru += \"4\"\n",
    "    elif huruf.lower() == \"e\":\n",
    "        kalimat_baru += \"3\"\n",
    "    elif huruf == \"l\":\n",
    "        kalimat_baru += \"7\"\n",
    "    elif huruf == \"s\":\n",
    "        kalimat_baru += \"5\"\n",
    "    else:\n",
    "        kalimat_baru += huruf\n",
    "\n",
    "print(f\"input:{kalimat}\")\n",
    "print(f\"output{kalimat_baru}\")"
   ]
  },
  {
   "cell_type": "code",
   "execution_count": null,
   "id": "3bbd79f1",
   "metadata": {},
   "outputs": [],
   "source": []
  },
  {
   "cell_type": "code",
   "execution_count": null,
   "id": "1353af0e",
   "metadata": {},
   "outputs": [],
   "source": []
  }
 ],
 "metadata": {
  "kernelspec": {
   "display_name": "Python 3 (ipykernel)",
   "language": "python",
   "name": "python3"
  },
  "language_info": {
   "codemirror_mode": {
    "name": "ipython",
    "version": 3
   },
   "file_extension": ".py",
   "mimetype": "text/x-python",
   "name": "python",
   "nbconvert_exporter": "python",
   "pygments_lexer": "ipython3",
   "version": "3.9.13"
  }
 },
 "nbformat": 4,
 "nbformat_minor": 5
}
