{
 "cells": [
  {
   "cell_type": "code",
   "execution_count": 7,
   "id": "4c27d235",
   "metadata": {},
   "outputs": [
    {
     "name": "stdout",
     "output_type": "stream",
     "text": [
      "kalimat: rahman rizaluddin\n",
      "input:rahman rizaluddin\n",
      "outputr4hm4n riz47uddin\n"
     ]
    }
   ],
   "source": [
    "kalimat = input(\"kalimat: \")\n",
    "kalimat_baru =\"\"\n",
    "for huruf in kalimat:\n",
    "    if huruf.lower() == \"a\":\n",
    "        kalimat_baru += \"4\"\n",
    "    elif huruf.lower() == \"e\":\n",
    "        kalimat_baru += \"3\"\n",
    "    elif huruf == \"l\":\n",
    "        kalimat_baru += \"7\"\n",
    "    elif huruf == \"s\":\n",
    "        kalimat_baru += \"5\"\n",
    "    else:\n",
    "        kalimat_baru += huruf\n",
    "\n",
    "print(f\"input:{kalimat}\")\n",
    "print(f\"output{kalimat_baru}\")"
   ]
  },
  {
   "cell_type": "code",
   "execution_count": null,
   "id": "dd456e3c",
   "metadata": {},
   "outputs": [],
   "source": []
  }
 ],
 "metadata": {
  "kernelspec": {
   "display_name": "Python 3 (ipykernel)",
   "language": "python",
   "name": "python3"
  },
  "language_info": {
   "codemirror_mode": {
    "name": "ipython",
    "version": 3
   },
   "file_extension": ".py",
   "mimetype": "text/x-python",
   "name": "python",
   "nbconvert_exporter": "python",
   "pygments_lexer": "ipython3",
   "version": "3.9.13"
  }
 },
 "nbformat": 4,
 "nbformat_minor": 5
}
