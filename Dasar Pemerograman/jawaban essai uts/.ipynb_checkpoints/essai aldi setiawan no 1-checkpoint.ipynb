{
 "cells": [
  {
   "cell_type": "code",
   "execution_count": 2,
   "id": "cacf199a",
   "metadata": {},
   "outputs": [
    {
     "name": "stdout",
     "output_type": "stream",
     "text": [
      "Kasus contoh:\n",
      "alunsujjada@gmailcom => False\n",
      "alunsujjada@gmail.com => True\n",
      "alun.sujjada@gmail.com => False\n",
      "alunsujjada.gmail.com => False\n",
      "alun.sujjada@gmailcom => False\n",
      "\n",
      "Masukan email: alunsujjada@gmailcom \n",
      "alunsujjada@gmailcom  => False\n"
     ]
    }
   ],
   "source": [
    "def isEmailValid(email):\n",
    "    content = email.split(\"@\")\n",
    "\n",
    "    haveNoSpace = email.find(\" \") == -1\n",
    "\n",
    "    isContent = len(content) == 2\n",
    "\n",
    "    isIdentifier = content[0].isidentifier()\n",
    "\n",
    "    isDomain = len(content) == 2 and content[1].find(\".\") != -1 and (not content[1].startswith(\".\")) and (not content[1].endswith(\".\"))\n",
    "    \n",
    "    return haveNoSpace and isContent and isIdentifier and isDomain\n",
    "\n",
    "emails = [\"alunsujjada@gmailcom\", \"alunsujjada@gmail.com\", \"alun.sujjada@gmail.com\", \"alunsujjada.gmail.com\", \"alun.sujjada@gmailcom\"]\n",
    "print(\"Kasus contoh:\")\n",
    "for email in emails:\n",
    "    isValid = isEmailValid(email)\n",
    "    print(f\"{email} => {isValid}\")\n",
    "\n",
    "print()\n",
    "email_input = input(\"Masukan email: \")\n",
    "is_email_input_valid = isEmailValid(email_input)\n",
    "print(f\"{email_input} => {is_email_input_valid}\")"
   ]
  },
  {
   "cell_type": "code",
   "execution_count": null,
   "id": "3fda4933",
   "metadata": {},
   "outputs": [],
   "source": []
  }
 ],
 "metadata": {
  "kernelspec": {
   "display_name": "Python 3 (ipykernel)",
   "language": "python",
   "name": "python3"
  },
  "language_info": {
   "codemirror_mode": {
    "name": "ipython",
    "version": 3
   },
   "file_extension": ".py",
   "mimetype": "text/x-python",
   "name": "python",
   "nbconvert_exporter": "python",
   "pygments_lexer": "ipython3",
   "version": "3.9.13"
  }
 },
 "nbformat": 4,
 "nbformat_minor": 5
}
