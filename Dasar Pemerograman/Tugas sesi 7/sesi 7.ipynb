{
 "cells": [
  {
   "cell_type": "code",
   "execution_count": 1,
   "id": "a33a230c",
   "metadata": {},
   "outputs": [
    {
     "name": "stdout",
     "output_type": "stream",
     "text": [
      "P\n",
      "h\n",
      "y\n",
      "t\n",
      "h\n",
      "o\n",
      "n\n",
      " \n",
      "i\n",
      "s\n",
      " \n",
      "e\n",
      "a\n",
      "s\n",
      "y\n",
      "selesai\n"
     ]
    }
   ],
   "source": [
    "Kalimat = \"Phython is easy\"\n",
    "for k in Kalimat:\n",
    "    print(k)\n",
    "print(\"selesai\")"
   ]
  },
  {
   "cell_type": "code",
   "execution_count": 5,
   "id": "148619d4",
   "metadata": {},
   "outputs": [
    {
     "name": "stdout",
     "output_type": "stream",
     "text": [
      "9\n",
      "8\n",
      "7\n",
      "6\n",
      "5\n",
      "4\n",
      "3\n",
      "2\n",
      "1\n"
     ]
    }
   ],
   "source": [
    "for i in range(1,10):\n",
    "    print(10-i)"
   ]
  },
  {
   "cell_type": "code",
   "execution_count": 4,
   "id": "0145799c",
   "metadata": {},
   "outputs": [
    {
     "name": "stdout",
     "output_type": "stream",
     "text": [
      "1\n",
      "2\n",
      "3\n",
      "4\n",
      "5\n",
      "6\n",
      "7\n",
      "8\n",
      "9\n"
     ]
    }
   ],
   "source": [
    "for i in range(1,10):\n",
    "    print(i)"
   ]
  },
  {
   "cell_type": "code",
   "execution_count": 2,
   "id": "be839efa",
   "metadata": {},
   "outputs": [
    {
     "name": "stdout",
     "output_type": "stream",
     "text": [
      "1\n",
      "-2\n",
      "3\n",
      "-4\n",
      "5\n",
      "-6\n",
      "7\n",
      "-8\n",
      "9\n",
      "-10\n"
     ]
    }
   ],
   "source": [
    "tanda = -1\n",
    "for i in range(1,11):\n",
    "    tanda =tanda * -1\n",
    "    print(i*tanda)"
   ]
  },
  {
   "cell_type": "code",
   "execution_count": 3,
   "id": "c8caacf6",
   "metadata": {},
   "outputs": [
    {
     "name": "stdout",
     "output_type": "stream",
     "text": [
      "1\n",
      "2\n",
      "6\n",
      "24\n",
      "120\n"
     ]
    }
   ],
   "source": [
    "Bilangan = 5\n",
    "hasil = 1\n",
    "for i in range(1, Bilangan +1):\n",
    "    hasil = hasil *i\n",
    "    print(hasil)"
   ]
  },
  {
   "cell_type": "code",
   "execution_count": null,
   "id": "36f39f46",
   "metadata": {},
   "outputs": [],
   "source": [
    "i , n, faktorial = 0 , 0 , 2\n",
    "n = int(input(\"Masukan Nilai: \"))\n",
    "\n",
    "for i in range(1 , n+1):\n",
    "    faktorial *= i\n",
    "    \n",
    "print(\"faktorial:\", faktorial)"
   ]
  },
  {
   "cell_type": "code",
   "execution_count": null,
   "id": "dd6cce96",
   "metadata": {},
   "outputs": [],
   "source": [
    "bilangan = 3\n",
    "pangkat = 3 \n",
    "hasil = 1\n",
    "for i in range(1, pangkat +1):\n",
    "    hasil = hasil*bilangan \n",
    "print(f'{bilangan} pangkat {pangkat}= {hasil}')"
   ]
  },
  {
   "cell_type": "code",
   "execution_count": null,
   "id": "35f6759e",
   "metadata": {},
   "outputs": [],
   "source": [
    "#Bilangan prima adalah bilangan yg habis di bagi bilangan itu sendiri dan 1\n",
    "faktor = 0\n",
    "bilangan = int(input(\"Masukan Bilanga : \"))\n",
    "\n",
    "for i in range(1,bilangan +1):\n",
    "    if bilangan % i==0:\n",
    "        faktor +=1\n",
    "if faktor==2:\n",
    "    print(f'{bilangan} adalah bilangan prima ' )\n",
    "else:\n",
    "    print(f'{bilangan} buka prima')"
   ]
  },
  {
   "cell_type": "code",
   "execution_count": null,
   "id": "7e16d265",
   "metadata": {},
   "outputs": [],
   "source": [
    "for i in range(1,5):\n",
    "    for j in range(1,5):\n",
    "        print(f'i={i}|j={j}')           "
   ]
  },
  {
   "cell_type": "code",
   "execution_count": null,
   "id": "15e60fd6",
   "metadata": {},
   "outputs": [],
   "source": [
    "for i in range(1,6):\n",
    "    for j in range(1,6):\n",
    "        print(f'{i},{j}',end=' ')\n",
    "    print()"
   ]
  },
  {
   "cell_type": "code",
   "execution_count": null,
   "id": "7399de3d",
   "metadata": {},
   "outputs": [],
   "source": [
    "for i in range(1,10):\n",
    "    for j in range(1,10):\n",
    "        if i < j:\n",
    "             print(f'1',end=' ')\n",
    "        else:\n",
    "            print(f'0',end=' ')\n",
    "    print()"
   ]
  },
  {
   "cell_type": "code",
   "execution_count": null,
   "id": "2593ed9b",
   "metadata": {},
   "outputs": [],
   "source": [
    "for i in range(1,10):\n",
    "    for j in range(1,10):\n",
    "        if i > j:\n",
    "             print(f'1',end=' ')\n",
    "        else:\n",
    "            print(f'0',end=' ')\n",
    "    print()"
   ]
  },
  {
   "cell_type": "code",
   "execution_count": 1,
   "id": "acea106a",
   "metadata": {},
   "outputs": [
    {
     "name": "stdout",
     "output_type": "stream",
     "text": [
      "0\n",
      "1\n",
      "2\n",
      "3\n",
      "4\n",
      "5\n",
      "6\n",
      "7\n",
      "8\n",
      "9\n"
     ]
    }
   ],
   "source": [
    "i = 0\n",
    "while i < 10:\n",
    "    print(i)\n",
    "    i+=1"
   ]
  },
  {
   "cell_type": "code",
   "execution_count": null,
   "id": "162eb80f",
   "metadata": {},
   "outputs": [
    {
     "name": "stdout",
     "output_type": "stream",
     "text": [
      "1\n",
      "Apakah mau mengulang program? yes/noyes\n",
      "2\n",
      "Apakah mau mengulang program? yes/noyes\n",
      "3\n",
      "Apakah mau mengulang program? yes/noyes\n",
      "4\n",
      "Apakah mau mengulang program? yes/noyes\n",
      "5\n"
     ]
    }
   ],
   "source": [
    "jawab ='yes'\n",
    "a=0\n",
    "while jawab=='yes':\n",
    "    a+=1\n",
    "    print(a)\n",
    "    jawab= input('Apakah mau mengulang program? yes/no')"
   ]
  },
  {
   "cell_type": "code",
   "execution_count": null,
   "id": "62cb5913",
   "metadata": {},
   "outputs": [],
   "source": []
  }
 ],
 "metadata": {
  "kernelspec": {
   "display_name": "Python 3 (ipykernel)",
   "language": "python",
   "name": "python3"
  },
  "language_info": {
   "codemirror_mode": {
    "name": "ipython",
    "version": 3
   },
   "file_extension": ".py",
   "mimetype": "text/x-python",
   "name": "python",
   "nbconvert_exporter": "python",
   "pygments_lexer": "ipython3",
   "version": "3.9.13"
  }
 },
 "nbformat": 4,
 "nbformat_minor": 5
}
