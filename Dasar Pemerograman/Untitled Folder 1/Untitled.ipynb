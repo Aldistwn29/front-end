{
 "cells": [
  {
   "cell_type": "code",
   "execution_count": 9,
   "id": "1c2c7ee3",
   "metadata": {},
   "outputs": [
    {
     "name": "stdout",
     "output_type": "stream",
     "text": [
      "Masukkan Harga perKgny = 10\n",
      "Masukkan Beratnya= 2\n",
      "byr = 20\n"
     ]
    }
   ],
   "source": [
    "# Deklarasi\n",
    "'hrg' , 'brt' , 'byr'\n",
    "#begin\n",
    "hrg =int(input(\"Masukkan Harga perKgny = \"))\n",
    "brt = int(input(\"Masukkan Beratnya= \"))\n",
    "byr = hrg*brt \n",
    "print(\"byr =\",byr)"
   ]
  },
  {
   "cell_type": "code",
   "execution_count": 14,
   "id": "f7726f3e",
   "metadata": {},
   "outputs": [
    {
     "name": "stdout",
     "output_type": "stream",
     "text": [
      "Masukan jumlah kelereang soni = 15\n",
      "kadi =  5\n",
      "kanisa =  40\n",
      "kluki=  55\n"
     ]
    }
   ],
   "source": [
    "# Deklarasi \n",
    "'ksoni' , 'kadi' , 'kanisa' , 'kluki'\n",
    "\n",
    "# begin\n",
    "ksoni = int(input(\"Masukan jumlah kelereang soni = \"))\n",
    "kadi = ksoni-10\n",
    "kanisa = 2*(ksoni+kadi)\n",
    "kluki = ksoni+kadi+kanisa-5\n",
    "\n",
    "print(\"kadi = \",kadi)\n",
    "print(\"kanisa = \",kanisa)\n",
    "print(\"kluki= \",kluki)"
   ]
  },
  {
   "cell_type": "code",
   "execution_count": null,
   "id": "205d613b",
   "metadata": {},
   "outputs": [],
   "source": []
  }
 ],
 "metadata": {
  "kernelspec": {
   "display_name": "Python 3 (ipykernel)",
   "language": "python",
   "name": "python3"
  },
  "language_info": {
   "codemirror_mode": {
    "name": "ipython",
    "version": 3
   },
   "file_extension": ".py",
   "mimetype": "text/x-python",
   "name": "python",
   "nbconvert_exporter": "python",
   "pygments_lexer": "ipython3",
   "version": "3.9.13"
  }
 },
 "nbformat": 4,
 "nbformat_minor": 5
}
