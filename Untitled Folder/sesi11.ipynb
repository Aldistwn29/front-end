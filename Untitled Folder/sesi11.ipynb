{
 "cells": [
  {
   "cell_type": "code",
   "execution_count": 5,
   "id": "39c3850a",
   "metadata": {},
   "outputs": [
    {
     "name": "stdout",
     "output_type": "stream",
     "text": [
      "prof.Aldi setiawan,S.Kom\n"
     ]
    }
   ],
   "source": [
    "def getTitleBelakang(title='S.Kom'):\n",
    "    return title\n",
    "\n",
    "def getTitleDepan(title='Dr'):\n",
    "    return title \n",
    "\n",
    "def fullNameWithTitle(fristname,lastname):\n",
    "    title_depan = getTitleDepan('prof')\n",
    "    title_belakang = getTitleBelakang()\n",
    "    print(f\"{title_depan}.{fristname} {lastname},{title_belakang}\")\n",
    "    \n",
    "fullNameWithTitle(\"Aldi\",\"setiawan\")"
   ]
  },
  {
   "cell_type": "code",
   "execution_count": 7,
   "id": "2e33d53c",
   "metadata": {},
   "outputs": [
    {
     "name": "stdout",
     "output_type": "stream",
     "text": [
      "welcome in python\n"
     ]
    }
   ],
   "source": [
    "def python():\n",
    "    print(\"welcome in python\")\n",
    "python()"
   ]
  },
  {
   "cell_type": "code",
   "execution_count": 17,
   "id": "d3ada83e",
   "metadata": {},
   "outputs": [
    {
     "ename": "NameError",
     "evalue": "name 'nama' is not defined",
     "output_type": "error",
     "traceback": [
      "\u001b[1;31m---------------------------------------------------------------------------\u001b[0m",
      "\u001b[1;31mNameError\u001b[0m                                 Traceback (most recent call last)",
      "\u001b[1;32m~\\AppData\\Local\\Temp\\ipykernel_17948\\1080082006.py\u001b[0m in \u001b[0;36m<module>\u001b[1;34m\u001b[0m\n\u001b[0;32m      2\u001b[0m     \u001b[0mprint\u001b[0m\u001b[1;33m(\u001b[0m\u001b[1;34mf\"{nama}\"\u001b[0m\u001b[1;33m)\u001b[0m\u001b[1;33m\u001b[0m\u001b[1;33m\u001b[0m\u001b[0m\n\u001b[0;32m      3\u001b[0m \u001b[1;33m\u001b[0m\u001b[0m\n\u001b[1;32m----> 4\u001b[1;33m \u001b[0mpython\u001b[0m\u001b[1;33m(\u001b[0m\u001b[1;34m\"Aldi\"\u001b[0m\u001b[1;33m)\u001b[0m\u001b[1;33m\u001b[0m\u001b[1;33m\u001b[0m\u001b[0m\n\u001b[0m",
      "\u001b[1;32m~\\AppData\\Local\\Temp\\ipykernel_17948\\1080082006.py\u001b[0m in \u001b[0;36mpython\u001b[1;34m(name)\u001b[0m\n\u001b[0;32m      1\u001b[0m \u001b[1;32mdef\u001b[0m \u001b[0mpython\u001b[0m\u001b[1;33m(\u001b[0m\u001b[0mname\u001b[0m\u001b[1;33m)\u001b[0m\u001b[1;33m:\u001b[0m\u001b[1;33m\u001b[0m\u001b[1;33m\u001b[0m\u001b[0m\n\u001b[1;32m----> 2\u001b[1;33m     \u001b[0mprint\u001b[0m\u001b[1;33m(\u001b[0m\u001b[1;34mf\"{nama}\"\u001b[0m\u001b[1;33m)\u001b[0m\u001b[1;33m\u001b[0m\u001b[1;33m\u001b[0m\u001b[0m\n\u001b[0m\u001b[0;32m      3\u001b[0m \u001b[1;33m\u001b[0m\u001b[0m\n\u001b[0;32m      4\u001b[0m \u001b[0mpython\u001b[0m\u001b[1;33m(\u001b[0m\u001b[1;34m\"Aldi\"\u001b[0m\u001b[1;33m)\u001b[0m\u001b[1;33m\u001b[0m\u001b[1;33m\u001b[0m\u001b[0m\n",
      "\u001b[1;31mNameError\u001b[0m: name 'nama' is not defined"
     ]
    }
   ],
   "source": [
    "def python(name):\n",
    "    print(f\"{nama}\")\n",
    "\n",
    "python(\"Aldi\")"
   ]
  },
  {
   "cell_type": "code",
   "execution_count": 14,
   "id": "690b6aab",
   "metadata": {},
   "outputs": [
    {
     "data": {
      "text/plain": [
       "100"
      ]
     },
     "execution_count": 14,
     "metadata": {},
     "output_type": "execute_result"
    }
   ],
   "source": [
    "def maxValue(val_1,val_2,val_3):\n",
    "    if val_1 >= val_2 and val_1 > val_3:\n",
    "        return val_1\n",
    "\n",
    "maxValue(100,10,5)"
   ]
  },
  {
   "cell_type": "code",
   "execution_count": 27,
   "id": "2447ad00",
   "metadata": {},
   "outputs": [
    {
     "name": "stdout",
     "output_type": "stream",
     "text": [
      "100\n",
      "78.5\n",
      "21.5\n"
     ]
    }
   ],
   "source": [
    "def countCircleArea(diameter,phi=3.14):\n",
    "    r = diameter/2\n",
    "    return phi * r * r\n",
    "\n",
    "def countSquareArea(sisi):\n",
    "    return sisi * sisi\n",
    "\n",
    "sisi = 10\n",
    "diameter = 10\n",
    "result = countSquareArea(sisi) - countCircleArea(diameter)\n",
    "print(countSquareArea(sisi))\n",
    "print(countCircleArea(diameter))\n",
    "print(result)\n",
    "\n",
    "#countCircleArea(10)"
   ]
  },
  {
   "cell_type": "code",
   "execution_count": 32,
   "id": "4c80eeca",
   "metadata": {},
   "outputs": [
    {
     "name": "stdout",
     "output_type": "stream",
     "text": [
      "suhu sekarang di Sukabumi : 25 Celcius\n",
      "suhu sekarang di Sukabumi : 100 Farenheit\n",
      "suhu sekarang di Surabaya : 24 Farenheit\n"
     ]
    }
   ],
   "source": [
    "def info(suhu, daerah='Sukabumi', satuan='Celcius'):\n",
    "    print(f\"suhu sekarang di {daerah} : {suhu} {satuan}\")\n",
    "\n",
    "info(25)\n",
    "info(100,satuan='Farenheit')\n",
    "info(24,'Surabaya', 'Farenheit')"
   ]
  },
  {
   "cell_type": "code",
   "execution_count": 36,
   "id": "d6acea8e",
   "metadata": {},
   "outputs": [
    {
     "data": {
      "text/plain": [
       "24"
      ]
     },
     "execution_count": 36,
     "metadata": {},
     "output_type": "execute_result"
    }
   ],
   "source": [
    "# Fungsi Rekursif \n",
    "def faktorial(bil):\n",
    "    if bil==1:\n",
    "        return 1\n",
    "    return bil * faktorial(bil-1)\n",
    "    \n",
    "faktorial(4)"
   ]
  },
  {
   "cell_type": "code",
   "execution_count": 44,
   "id": "08ef6bf0",
   "metadata": {},
   "outputs": [
    {
     "name": "stdout",
     "output_type": "stream",
     "text": [
      "330\n",
      "100\n"
     ]
    }
   ],
   "source": [
    "nilai_tugas = [100,80,70,80]\n",
    "\n",
    "def totalNilai(n_tugas):\n",
    "    total=0\n",
    "    for i in n_tugas:\n",
    "        total +=i\n",
    "        \n",
    "    return total \n",
    "\n",
    "def maxValue(n_tugas):\n",
    "    maks=0\n",
    "    for i in n_tugas:\n",
    "        if i > maks:\n",
    "            maks = i\n",
    "    return maks \n",
    "\n",
    "print(totalNilai(nilai_tugas))\n",
    "print(maxValue(nilai_tugas))"
   ]
  },
  {
   "cell_type": "code",
   "execution_count": 46,
   "id": "8d355cc1",
   "metadata": {},
   "outputs": [
    {
     "name": "stdout",
     "output_type": "stream",
     "text": [
      "[{'nama': 'adi', 'nilai': 90}, {'nama': 'rudi', 'nilai': 50}, {'nama': 'Ferdi', 'nilai': 100}, {'nama': 'sambo', 'nilai': 40}]\n"
     ]
    }
   ],
   "source": [
    "nilai_programing = [\n",
    "    {\n",
    "        \"nama\":\"adi\",\n",
    "        \"nilai\":[90\n",
    "    },\n",
    "    {\n",
    "        \"nama\":\"rudi\",\n",
    "        \"nilai\":50\n",
    "    },\n",
    "    {\n",
    "        \"nama\":\"Ferdi\",\n",
    "        \"nilai\":100\n",
    "    },\n",
    "    {\n",
    "        \"nama\":\"sambo\",\n",
    "        \"nilai\":40\n",
    "    },\n",
    "]\n",
    "\n",
    "print(nilai_programing)"
   ]
  },
  {
   "cell_type": "code",
   "execution_count": null,
   "id": "14491620",
   "metadata": {},
   "outputs": [],
   "source": []
  }
 ],
 "metadata": {
  "kernelspec": {
   "display_name": "Python 3 (ipykernel)",
   "language": "python",
   "name": "python3"
  },
  "language_info": {
   "codemirror_mode": {
    "name": "ipython",
    "version": 3
   },
   "file_extension": ".py",
   "mimetype": "text/x-python",
   "name": "python",
   "nbconvert_exporter": "python",
   "pygments_lexer": "ipython3",
   "version": "3.9.13"
  }
 },
 "nbformat": 4,
 "nbformat_minor": 5
}
