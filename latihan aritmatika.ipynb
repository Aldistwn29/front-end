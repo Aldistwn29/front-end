{
 "cells": [
  {
   "cell_type": "markdown",
   "id": "f3c0812a",
   "metadata": {},
   "source": [
    "# Latihan"
   ]
  },
  {
   "cell_type": "markdown",
   "id": "444edf15",
   "metadata": {},
   "source": [
    "Disini saya akan mencoba aritmatika di jupyter notebook "
   ]
  },
  {
   "cell_type": "code",
   "execution_count": null,
   "id": "33f84439",
   "metadata": {},
   "outputs": [],
   "source": [
    "#ambil input untuk mengisi nilai\n",
    "input(\"inputkan nilai a = \")\n",
    "print(\"nilai a= 4\")\n",
    "a  +=5"
   ]
  },
  {
   "cell_type": "code",
   "execution_count": null,
   "id": "d57083b9",
   "metadata": {},
   "outputs": [],
   "source": []
  }
 ],
 "metadata": {
  "kernelspec": {
   "display_name": "Python 3 (ipykernel)",
   "language": "python",
   "name": "python3"
  },
  "language_info": {
   "codemirror_mode": {
    "name": "ipython",
    "version": 3
   },
   "file_extension": ".py",
   "mimetype": "text/x-python",
   "name": "python",
   "nbconvert_exporter": "python",
   "pygments_lexer": "ipython3",
   "version": "3.9.12"
  }
 },
 "nbformat": 4,
 "nbformat_minor": 5
}
