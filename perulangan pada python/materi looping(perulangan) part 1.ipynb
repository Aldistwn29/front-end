{
 "cells": [
  {
   "cell_type": "markdown",
   "id": "7cfee87b",
   "metadata": {},
   "source": [
    "# KONDIS PERULANGAN"
   ]
  },
  {
   "cell_type": "markdown",
   "id": "853f37fc",
   "metadata": {},
   "source": [
    "###### Kondisi perulangan atau iterasi adalah instruksi yang diberikan kepada komputer sebagai cara untuk mengeksekusi beberapa kode program secara berulang-ulang. Looping terdiri dari 2 jenis yaitu:\n",
    "1. Looping for\n",
    "2. Looping while"
   ]
  },
  {
   "cell_type": "code",
   "execution_count": null,
   "id": "eb48c90f",
   "metadata": {},
   "outputs": [],
   "source": [
    "Misal terdapat permasalahan program dapat mencetak output 1, 2, 3, 4, 5 maka\n",
    "secara logika program dapat dituliskan seperti pada kode 7.1 berikut ini:"
   ]
  },
  {
   "cell_type": "code",
   "execution_count": 5,
   "id": "04a21730",
   "metadata": {},
   "outputs": [
    {
     "name": "stdout",
     "output_type": "stream",
     "text": [
      "1,2,3,4,5 "
     ]
    }
   ],
   "source": [
    "print(\"1\", end=\",\")\n",
    "print(\"2\", end=\",\")\n",
    "print(\"3\", end=\",\")\n",
    "print(\"4\", end=\",\")\n",
    "print(\"5\", end=\" \")"
   ]
  },
  {
   "cell_type": "code",
   "execution_count": null,
   "id": "40eb04be",
   "metadata": {},
   "outputs": [],
   "source": [
    "contoh lain "
   ]
  },
  {
   "cell_type": "code",
   "execution_count": 8,
   "id": "b84b9d87",
   "metadata": {},
   "outputs": [
    {
     "name": "stdout",
     "output_type": "stream",
     "text": [
      "1\n",
      "2\n",
      "3\n",
      "4\n"
     ]
    }
   ],
   "source": [
    "angka = 1\n",
    "print(angka)\n",
    "angka = angka + 1\n",
    "print(angka)\n",
    "angka = angka + 1\n",
    "print(angka)\n",
    "angka = angka + 1\n",
    "print(angka)"
   ]
  },
  {
   "cell_type": "markdown",
   "id": "ce0fe218",
   "metadata": {},
   "source": [
    "nama cara diatas tidak efisien dan efektif jika ingin mencetak 1 - 1000000, maka cara yg paling tepat yaitu menggunakan lopping atau kondisi perluangan ."
   ]
  },
  {
   "cell_type": "markdown",
   "id": "0ffd3d6f",
   "metadata": {},
   "source": [
    "# LOOPING FOR"
   ]
  },
  {
   "cell_type": "code",
   "execution_count": null,
   "id": "6cfc6794",
   "metadata": {},
   "outputs": [],
   "source": [
    "contoh"
   ]
  },
  {
   "cell_type": "code",
   "execution_count": 3,
   "id": "5322d12b",
   "metadata": {},
   "outputs": [
    {
     "name": "stdout",
     "output_type": "stream",
     "text": [
      "[2, 4, 6, 8, 10]\n",
      "i sekarang -> 2\n",
      "i sekarang -> 4\n",
      "i sekarang -> 6\n",
      "i sekarang -> 8\n",
      "i sekarang -> 10\n",
      "akhir program 1\n",
      "\n",
      "i sekarang -> 0\n",
      "i sekarang -> 1\n",
      "i sekarang -> 2\n",
      "i sekarang -> 3\n",
      "i sekarang -> 4\n",
      "i sekarang -> 5\n",
      "i sekarang -> 6\n",
      "akhir program 2\n",
      "\n",
      "i sekarang -> 0\n",
      "i sekarang -> 1\n",
      "i sekarang -> 2\n",
      "i sekarang -> 3\n",
      "i sekarang -> 4\n",
      "i sekarang -> 5\n",
      "i sekarang -> 6\n",
      "akhir program 2\n",
      "\n",
      "i sekarang -> 1\n",
      "i sekarang -> 2\n",
      "i sekarang -> 3\n",
      "i sekarang -> 4\n",
      "i sekarang -> 5\n",
      "i sekarang -> 6\n",
      "akhir program 3\n",
      "\n",
      "i sekarang -> 1\n",
      "i sekarang -> 2\n",
      "i sekarang -> 3\n",
      "i sekarang -> 4\n",
      "i sekarang -> 5\n",
      "i sekarang -> 6\n",
      "akhir program 3\n"
     ]
    }
   ],
   "source": [
    "# ini dengan list\n",
    "# saya memeiliki angka yg merupakan bilangan genap dari 1-10\n",
    "angka2_list = [2,4,6,8,10] #ini adalah list\n",
    "print(angka2_list)\n",
    "\n",
    "for i in angka2_list :\n",
    "    print(f\"i sekarang -> {i}\")\n",
    "    \n",
    "print('akhir program 1\\n')\n",
    "\n",
    "# dengan menggunakan range\n",
    "angka2_range = range(7)\n",
    "\n",
    "for i in angka2_range :\n",
    "    print(f\"i sekarang -> {i}\")\n",
    "    \n",
    "print(\"akhir program 2\\n\")\n",
    "\n",
    "#contoh 2 tidak menuliskan variabel angka2_range = (7)\n",
    "for i in range (7): \n",
    "    print(f\"i sekarang -> {i}\")\n",
    "    \n",
    "print(\"akhir program 2\\n\")\n",
    "\n",
    "# contoh range dengan memasukan koma yg bertujuan sebagai sekat atau tanda pemisah range (1,7)\n",
    "angka2_range = range(1,7)\n",
    "\n",
    "for i in angka2_range:\n",
    "    print(f\"i sekarang -> {i}\")\n",
    "    \n",
    "print(\"akhir program 3\\n\")\n",
    "\n",
    "# contoh kedua dengan tidak memasukan variabel angka2_range menjadi :\n",
    "\n",
    "for i in range(1,7):\n",
    "    print(f\"i sekarang -> {i}\")\n",
    "    \n",
    "print(\"akhir program 3\")"
   ]
  },
  {
   "cell_type": "code",
   "execution_count": 2,
   "id": "bd627591",
   "metadata": {},
   "outputs": [
    {
     "ename": "TypeError",
     "evalue": "'int' object is not iterable",
     "output_type": "error",
     "traceback": [
      "\u001b[1;31m---------------------------------------------------------------------------\u001b[0m",
      "\u001b[1;31mTypeError\u001b[0m                                 Traceback (most recent call last)",
      "\u001b[1;32m~\\AppData\\Local\\Temp\\ipykernel_5660\\3543017768.py\u001b[0m in \u001b[0;36m<module>\u001b[1;34m\u001b[0m\n\u001b[0;32m      1\u001b[0m \u001b[0mrange\u001b[0m \u001b[1;33m=\u001b[0m \u001b[1;33m(\u001b[0m\u001b[1;36m5\u001b[0m\u001b[1;33m)\u001b[0m\u001b[1;33m\u001b[0m\u001b[1;33m\u001b[0m\u001b[0m\n\u001b[1;32m----> 2\u001b[1;33m \u001b[1;32mfor\u001b[0m \u001b[0mi\u001b[0m \u001b[1;32min\u001b[0m \u001b[0mrange\u001b[0m\u001b[1;33m:\u001b[0m\u001b[1;33m\u001b[0m\u001b[1;33m\u001b[0m\u001b[0m\n\u001b[0m\u001b[0;32m      3\u001b[0m     \u001b[0mprint\u001b[0m\u001b[1;33m(\u001b[0m\u001b[1;34mf\"i sekarang -> {i}\"\u001b[0m\u001b[1;33m)\u001b[0m \u001b[1;31m#ini merupakan code yg salah karena range tidak bisa di jadikan variabel dan akan error dgn\u001b[0m\u001b[1;33m\u001b[0m\u001b[1;33m\u001b[0m\u001b[0m\n\u001b[0;32m      4\u001b[0m \u001b[1;31m# message 'int' object is not iterable\u001b[0m\u001b[1;33m\u001b[0m\u001b[1;33m\u001b[0m\u001b[0m\n",
      "\u001b[1;31mTypeError\u001b[0m: 'int' object is not iterable"
     ]
    }
   ],
   "source": [
    "range = (5)\n",
    "for i in range:\n",
    "    print(f\"i sekarang -> {i}\") #ini merupakan code yg salah karena range tidak bisa di jadikan variabel dan akan error dgn\n",
    "# message 'int' object is not iterable\n"
   ]
  },
  {
   "cell_type": "code",
   "execution_count": 18,
   "id": "a24a7b31",
   "metadata": {},
   "outputs": [
    {
     "name": "stdout",
     "output_type": "stream",
     "text": [
      "5\n",
      "4\n",
      "3\n",
      "2\n",
      "1\n",
      "akhir\n",
      "\n",
      "6\n",
      "5\n",
      "4\n",
      "3\n",
      "2\n",
      "1\n"
     ]
    }
   ],
   "source": [
    "# solusi dari permasalahan di atas \n",
    "\n",
    "for angka in range(5) :\n",
    "    print(5-angka)\n",
    "    \n",
    "print(\"akhir\\n\")\n",
    "# contoh menggunakan i di belakang for\n",
    "for i in range(6):\n",
    "    print(6-i)\n",
    "    \n",
    "# jdi i bebas di ganti dgn apa saja tpi prinnnya harus mengikuti dengan for yg di pakai"
   ]
  },
  {
   "cell_type": "code",
   "execution_count": 8,
   "id": "b78080fd",
   "metadata": {},
   "outputs": [
    {
     "name": "stdout",
     "output_type": "stream",
     "text": [
      "p\n",
      "y\n",
      "h\n",
      "t\n",
      "o\n",
      "n\n",
      " \n",
      "a\n",
      "d\n",
      "a\n",
      "l\n",
      "a\n",
      "h\n",
      " \n",
      "b\n",
      "a\n",
      "h\n",
      "a\n",
      "s\n",
      "a\n",
      " \n",
      "p\n",
      "e\n",
      "r\n",
      "t\n",
      "a\n",
      "m\n",
      "a\n",
      " \n",
      "y\n",
      "g\n",
      " \n",
      "s\n",
      "a\n",
      "y\n",
      "a\n",
      " \n",
      "p\n",
      "e\n",
      "l\n",
      "a\n",
      "j\n",
      "a\n",
      "r\n",
      "i\n"
     ]
    }
   ],
   "source": [
    "# menggunakan string\n",
    "data_str = \"pyhton adalah bahasa pertama yg saya pelajari\"\n",
    "\n",
    "for i in data_str:\n",
    "    print(i)"
   ]
  },
  {
   "cell_type": "code",
   "execution_count": 2,
   "id": "04ac1b47",
   "metadata": {},
   "outputs": [
    {
     "name": "stdout",
     "output_type": "stream",
     "text": [
      "k\n",
      "a\n",
      "m\n",
      "u\n",
      " \n",
      "m\n",
      "a\n",
      "n\n",
      "i\n",
      "s\n",
      " \n",
      "t\n",
      "a\n",
      "p\n",
      "i\n",
      " \n",
      "?\n"
     ]
    }
   ],
   "source": [
    "kalimat = \"kamu manis tapi ?\"\n",
    "\n",
    "for k in kalimat:\n",
    "    print(k)"
   ]
  },
  {
   "cell_type": "markdown",
   "id": "06e84b26",
   "metadata": {},
   "source": [
    "# lopping while(ketika)"
   ]
  },
  {
   "cell_type": "code",
   "execution_count": 6,
   "id": "d63949d1",
   "metadata": {},
   "outputs": [],
   "source": [
    "# while looping\n",
    "# while kondisi :\n",
    "# aksi ini \n",
    "# aksi itu\n",
    "\n",
    "# akhir dari program"
   ]
  },
  {
   "cell_type": "code",
   "execution_count": 7,
   "id": "e5edd175",
   "metadata": {},
   "outputs": [
    {
     "name": "stdout",
     "output_type": "stream",
     "text": [
      "aldi setiawan\n",
      "aldi setiawan\n",
      "aldi setiawan\n",
      "aldi setiawan\n",
      "cukup\n",
      "\n",
      "angka sekarang -> 0\n",
      "angka sekarang -> 1\n",
      "aldi setiawan\n",
      "angka sekarang -> 2\n",
      "aldi setiawan\n",
      "angka sekarang -> 3\n",
      "aldi setiawan\n",
      "angka sekarang -> 4\n",
      "aldi setiawan\n",
      "angka sekarang -> 5\n",
      "aldi setiawan\n",
      "angka sekarang -> 6\n",
      "aldi setiawan\n",
      "cukup\n"
     ]
    }
   ],
   "source": [
    "# contoh \n",
    "\n",
    "angka = 1\n",
    "\n",
    "while angka < 5 :\n",
    "    angka += 1\n",
    "    print(\"aldi setiawan\")\n",
    "\n",
    "print(\"cukup\\n\")\n",
    "\n",
    "# part 2\n",
    "\n",
    "angka = 0\n",
    "print(f\"angka sekarang -> {angka}\")\n",
    "\n",
    "while angka < 6 :\n",
    "    angka += 1\n",
    "    print(f\"angka sekarang -> {angka}\")\n",
    "    print(\"aldi setiawan\")\n",
    "\n",
    "print(\"cukup\")\n"
   ]
  },
  {
   "cell_type": "code",
   "execution_count": null,
   "id": "b66dce9f",
   "metadata": {},
   "outputs": [],
   "source": []
  }
 ],
 "metadata": {
  "kernelspec": {
   "display_name": "Python 3 (ipykernel)",
   "language": "python",
   "name": "python3"
  },
  "language_info": {
   "codemirror_mode": {
    "name": "ipython",
    "version": 3
   },
   "file_extension": ".py",
   "mimetype": "text/x-python",
   "name": "python",
   "nbconvert_exporter": "python",
   "pygments_lexer": "ipython3",
   "version": "3.9.13"
  }
 },
 "nbformat": 4,
 "nbformat_minor": 5
}
